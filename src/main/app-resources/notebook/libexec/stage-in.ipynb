{
 "cells": [
  {
   "cell_type": "code",
   "execution_count": 1,
   "metadata": {},
   "outputs": [],
   "source": [
    "import os\n",
    "import cioppy"
   ]
  },
  {
   "cell_type": "code",
   "execution_count": 2,
   "metadata": {},
   "outputs": [],
   "source": [
    "ciop = cioppy.Cioppy()"
   ]
  },
  {
   "cell_type": "code",
   "execution_count": 3,
   "metadata": {},
   "outputs": [],
   "source": [
    "data_path = '/workspace/data'"
   ]
  },
  {
   "cell_type": "code",
   "execution_count": 4,
   "metadata": {},
   "outputs": [],
   "source": [
    "if not os.path.isdir(data_path):\n",
    "    os.makedirs(data_path)"
   ]
  },
  {
   "cell_type": "code",
<<<<<<< HEAD
   "execution_count": 10,
   "metadata": {},
   "outputs": [],
   "source": [
    "# Palu"
   ]
  },
  {
   "cell_type": "code",
   "execution_count": 11,
=======
   "execution_count": 5,
>>>>>>> 860475dd5119768efc22c4f19be958bcce59e9a0
   "metadata": {},
   "outputs": [],
   "source": [
    "input_references = ['https://catalog.terradue.com/sentinel1/search?format=atom&uid=S1A_IW_GRDH_1SDV_20181005T214239_20181005T214304_024006_029F71_16D6', \n",
    "                    'https://catalog.terradue.com/sentinel1/search?format=atom&uid=S1A_IW_GRDH_1SDV_20181005T214304_20181005T214335_024006_029F71_C8C4',\n",
    "                    'https://catalog.terradue.com/sentinel1/search?format=atom&uid=S1A_IW_GRDH_1SDV_20180607T214243_20180607T214308_022256_026888_8C77', \n",
    "                    'https://catalog.terradue.com/sentinel1/search?format=atom&uid=S1A_IW_GRDH_1SDV_20180607T214218_20180607T214243_022256_026888_C1E1']"
   ]
  },
  {
   "cell_type": "code",
<<<<<<< HEAD
   "execution_count": 12,
   "metadata": {},
   "outputs": [],
   "source": [
    "# Kaikoura"
   ]
  },
  {
   "cell_type": "code",
   "execution_count": 13,
   "metadata": {},
   "outputs": [],
   "source": [
    "#input_references = ['https://catalog.terradue.com/sentinel1/search?format=json&uid=S1A_IW_SLC__1SDV_20161115T072242_20161115T072310_013949_016775_F621',\n",
    "#                    'https://catalog.terradue.com/sentinel1/search?format=json&uid=S1A_IW_SLC__1SDV_20161115T072214_20161115T072244_013949_016775_84CF',\n",
    "#                    'https://catalog.terradue.com/sentinel1/search?format=json&uid=S1A_IW_SLC__1SSV_20161103T072248_20161103T072317_013774_0161F9_E78A',\n",
    "#                    'https://catalog.terradue.com/sentinel1/search?format=json&uid=S1A_IW_SLC__1SSV_20161103T072220_20161103T072250_013774_0161F9_2F68']"
   ]
  },
  {
   "cell_type": "code",
   "execution_count": 14,
=======
   "execution_count": 6,
>>>>>>> 860475dd5119768efc22c4f19be958bcce59e9a0
   "metadata": {},
   "outputs": [
    {
     "name": "stdout",
     "output_type": "stream",
     "text": [
      "https://store.terradue.com/download/sentinel1/files/v1/S1A_IW_GRDH_1SDV_20181005T214239_20181005T214304_024006_029F71_16D6\n",
      "https://store.terradue.com/download/sentinel1/files/v1/S1A_IW_GRDH_1SDV_20181005T214304_20181005T214335_024006_029F71_C8C4\n",
      "https://store.terradue.com/download/sentinel1/files/v1/S1A_IW_GRDH_1SDV_20180607T214243_20180607T214308_022256_026888_8C77\n",
      "https://store.terradue.com/download/sentinel1/files/v1/S1A_IW_GRDH_1SDV_20180607T214218_20180607T214243_022256_026888_C1E1\n"
     ]
    }
   ],
   "source": [
    "for input_reference in input_references:\n",
    "    \n",
    "    enclosure = ciop.search(end_point=input_reference,\n",
    "                              params=[('do', 'terradue')],\n",
    "                              output_fields='enclosure',\n",
    "                              model='EOP')[0]['enclosure']\n",
    "\n",
    "    print enclosure\n",
    "    retrieved = ciop.copy(enclosure, data_path, extract=False)\n",
    " "
   ]
  },
  {
   "cell_type": "code",
   "execution_count": null,
   "metadata": {},
   "outputs": [],
   "source": []
  }
 ],
 "metadata": {
  "kernelspec": {
   "display_name": "Python 2",
   "language": "python",
   "name": "python2"
  },
  "language_info": {
   "codemirror_mode": {
    "name": "ipython",
    "version": 2
   },
   "file_extension": ".py",
   "mimetype": "text/x-python",
   "name": "python",
   "nbconvert_exporter": "python",
   "pygments_lexer": "ipython2",
   "version": "2.7.12"
  }
 },
 "nbformat": 4,
 "nbformat_minor": 2
}
