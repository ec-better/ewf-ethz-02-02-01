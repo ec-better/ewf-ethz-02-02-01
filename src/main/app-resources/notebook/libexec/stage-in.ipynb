{
 "cells": [
  {
   "cell_type": "code",
   "execution_count": 1,
   "metadata": {},
   "outputs": [],
   "source": [
    "import os\n",
    "import cioppy"
   ]
  },
  {
   "cell_type": "code",
   "execution_count": 2,
   "metadata": {},
   "outputs": [],
   "source": [
    "ciop = cioppy.Cioppy()"
   ]
  },
  {
   "cell_type": "code",
   "execution_count": 3,
   "metadata": {},
   "outputs": [],
   "source": [
    "data_path = '/workspace/data'"
   ]
  },
  {
   "cell_type": "code",
   "execution_count": 4,
   "metadata": {},
   "outputs": [],
   "source": [
    "if not os.path.isdir(data_path):\n",
    "    os.makedirs(data_path)"
   ]
  },
  {
   "cell_type": "code",
   "execution_count": null,
   "metadata": {},
   "outputs": [],
   "source": [
    "# Palu 2018"
   ]
  },
  {
   "cell_type": "code",
   "execution_count": 5,
   "metadata": {},
   "outputs": [],
   "source": [
    "input_references = ['https://catalog.terradue.com/sentinel1/search?format=json&uid=S1A_IW_GRDH_1SDV_20181005T214239_20181005T214304_024006_029F71_16D6', \n",
    "                    'https://catalog.terradue.com/sentinel1/search?format=json&uid=S1A_IW_GRDH_1SDV_20181005T214304_20181005T214335_024006_029F71_C8C4',\n",
    "                    'https://catalog.terradue.com/sentinel1/search?format=json&uid=S1A_IW_GRDH_1SDV_20180607T214243_20180607T214308_022256_026888_8C77', \n",
    "                    'https://catalog.terradue.com/sentinel1/search?format=json&uid=S1A_IW_GRDH_1SDV_20180607T214218_20180607T214243_022256_026888_C1E1']"
   ]
  },
  {
   "cell_type": "code",
   "execution_count": 6,
   "metadata": {},
   "outputs": [],
   "source": [
    "# Kaikoura 2016\n",
    "#input_references = ['https://catalog.terradue.com/sentinel1/search?uid=S1B_IW_GRDH_1SSV_20161121T072138_20161121T072207_003053_005313_A18A',\n",
    "#                    'https://catalog.terradue.com/sentinel1/search?uid=S1A_IW_GRDH_1SSV_20161010T072220_20161010T072249_013424_015707_927F']"
   ]
  },
  {
   "cell_type": "code",
   "execution_count": 9,
   "metadata": {},
   "outputs": [],
   "source": [
    "# Ridgecrest 2019"
   ]
  },
  {
   "cell_type": "code",
   "execution_count": null,
   "metadata": {},
   "outputs": [],
   "source": [
    "#input_references = ['https://catalog.terradue.com/sentinel1/search?uid=S1B_IW_GRDH_1SDV_20190710T015000_20190710T015025_017065_0201B8_F9D4',\n",
    "#                    'https://catalog.terradue.com/sentinel1/search?uid=S1B_IW_GRDH_1SDV_20190628T014959_20190628T015024_016890_01FC87_AD21']"
   ]
  },
  {
   "cell_type": "code",
   "execution_count": 10,
   "metadata": {},
   "outputs": [
    {
     "name": "stdout",
     "output_type": "stream",
     "text": [
      "https://store.terradue.com/download/sentinel1/files/v1/S1B_IW_GRDH_1SDV_20190710T015000_20190710T015025_017065_0201B8_F9D4\n",
      "https://store.terradue.com/download/sentinel1/files/v1/S1B_IW_GRDH_1SDV_20190628T014959_20190628T015024_016890_01FC87_AD21\n"
     ]
    }
   ],
   "source": [
    "for input_reference in input_references:\n",
    "    \n",
    "    enclosure = ciop.search(end_point=input_reference,\n",
    "                              params=[('do', 'terradue')],\n",
    "                              output_fields='enclosure',\n",
    "                              model='EOP')[0]['enclosure']\n",
    "\n",
    "    print enclosure\n",
    "    retrieved = ciop.copy(enclosure, data_path, extract=False)\n",
    " "
   ]
  },
  {
   "cell_type": "code",
   "execution_count": null,
   "metadata": {},
   "outputs": [],
   "source": []
  },
  {
   "cell_type": "code",
   "execution_count": null,
   "metadata": {},
   "outputs": [],
   "source": []
  }
 ],
 "metadata": {
  "kernelspec": {
   "display_name": "Python 2",
   "language": "python",
   "name": "python2"
  },
  "language_info": {
   "codemirror_mode": {
    "name": "ipython",
    "version": 2
   },
   "file_extension": ".py",
   "mimetype": "text/x-python",
   "name": "python",
   "nbconvert_exporter": "python",
   "pygments_lexer": "ipython2",
   "version": "2.7.13"
  }
 },
 "nbformat": 4,
 "nbformat_minor": 2
}
